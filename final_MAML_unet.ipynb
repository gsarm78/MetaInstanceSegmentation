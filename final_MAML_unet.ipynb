{
 "cells": [
  {
   "cell_type": "code",
   "execution_count": 1,
   "metadata": {},
   "outputs": [],
   "source": [
    "import pandas as pd\n",
    "import matplotlib.pyplot as plt\n",
    "from dataloader import *\n",
    "import os\n",
    "from tqdm import tqdm"
   ]
  },
  {
   "cell_type": "code",
   "execution_count": 2,
   "metadata": {},
   "outputs": [
    {
     "name": "stdout",
     "output_type": "stream",
     "text": [
      "2.3.0\n"
     ]
    }
   ],
   "source": [
    "import tensorflow as tf\n",
    "from tensorflow.keras import backend as K\n",
    "print(tf.__version__)\n",
    "# physical_devices = tf.config.experimental.list_physical_devices('GPU')\n",
    "# print(physical_devices)\n",
    "# tf.config.gpu.set_per_process_memory_fraction(0.1)\n",
    "# tf.config.gpu.set_per_process_memory_growth(True)\n",
    "# K.tensorflow_backend.set_session(tf.Session(config=config))"
   ]
  },
  {
   "cell_type": "code",
   "execution_count": 3,
   "metadata": {},
   "outputs": [],
   "source": [
    "# import tensorflow as tf\n",
    "# print(\"Num GPUs Available: \", len(tf.config.experimental.list_physical_devices('GPU')))"
   ]
  },
  {
   "cell_type": "code",
   "execution_count": 4,
   "metadata": {},
   "outputs": [],
   "source": [
    "# tf.config.experimental.list_physical_devices('GPU')"
   ]
  },
  {
   "cell_type": "code",
   "execution_count": 5,
   "metadata": {},
   "outputs": [],
   "source": [
    "# tf.test.is_gpu_available()"
   ]
  },
  {
   "cell_type": "code",
   "execution_count": 6,
   "metadata": {},
   "outputs": [
    {
     "name": "stdout",
     "output_type": "stream",
     "text": [
      "4 Physical GPUs, 1 Logical GPUs\n"
     ]
    }
   ],
   "source": [
    "# import tensorflow as tf\n",
    "# tf.config.experimental.gpu.set_per_process_memory_fraction(0.75)\n",
    "# tf.config.experimental.gpu.set_per_process_memory_growth(True)\n",
    "GPU_ID = 1\n",
    "gpus = tf.config.experimental.list_physical_devices('GPU')\n",
    "if gpus:\n",
    "  try:\n",
    "    # Currently, memory growth needs to be the same across GPUs\n",
    "    tf.config.experimental.set_visible_devices(gpus[GPU_ID], 'GPU')\n",
    "\n",
    "#     for gpu in gpus:\n",
    "    tf.config.experimental.set_memory_growth(gpus[GPU_ID], True)\n",
    "    logical_gpus = tf.config.experimental.list_logical_devices('GPU')\n",
    "    print(len(gpus), \"Physical GPUs,\", len(logical_gpus), \"Logical GPUs\")\n",
    "  except RuntimeError as e:\n",
    "    # Memory growth must be set before GPUs have been initialized\n",
    "    print(e)"
   ]
  },
  {
   "cell_type": "code",
   "execution_count": 7,
   "metadata": {},
   "outputs": [
    {
     "data": {
      "text/plain": [
       "[PhysicalDevice(name='/physical_device:GPU:0', device_type='GPU'),\n",
       " PhysicalDevice(name='/physical_device:GPU:1', device_type='GPU'),\n",
       " PhysicalDevice(name='/physical_device:GPU:2', device_type='GPU'),\n",
       " PhysicalDevice(name='/physical_device:GPU:3', device_type='GPU')]"
      ]
     },
     "execution_count": 7,
     "metadata": {},
     "output_type": "execute_result"
    }
   ],
   "source": [
    " tf.config.experimental.list_physical_devices('GPU')"
   ]
  },
  {
   "cell_type": "code",
   "execution_count": 8,
   "metadata": {},
   "outputs": [],
   "source": [
    "k_shot_2=5*2\n",
    "k_shot=5"
   ]
  },
  {
   "cell_type": "code",
   "execution_count": 9,
   "metadata": {},
   "outputs": [],
   "source": [
    "# d =  DataGenerator(dataset_csv='/home/dataset_10_31_2020_3903_clustered.csv',\n",
    "#                    pano_directory='/home/data2/pano_image',\n",
    "#                    label_directory='/home/data2/labels',\n",
    "#                    num_classes=1,\n",
    "#                    num_samples_per_class=2*2,\n",
    "#                    num_meta_test_classes=1,\n",
    "#                    num_meta_test_samples_per_class=3*2,#3-shot test\n",
    "#                    IMG_WIDTH=48,\n",
    "#                    IMG_HEIGHT=48,\n",
    "#                    num_circles=3)\n",
    "d = DataGenerator(dataset_csv='/home/dataset_10_31_2020_3903_clustered.csv',\n",
    "                 pano_directory='/home/data2/pano_image',\n",
    "                 label_directory='/home/data2/labels',\n",
    "                 num_classes=1,\n",
    "                 num_samples_per_class=k_shot_2,#2-shot\n",
    "                 num_meta_test_classes=1,\n",
    "                 num_meta_test_samples_per_class=3*2,#3-shot test\n",
    "                 IMG_WIDTH=48,\n",
    "                 IMG_HEIGHT=48,\n",
    "                 num_circles=2,\n",
    "                 clustered=True,\n",
    "                 country_code=None)\n"
   ]
  },
  {
   "cell_type": "code",
   "execution_count": 10,
   "metadata": {},
   "outputs": [
    {
     "name": "stdout",
     "output_type": "stream",
     "text": [
      "(16, 1, 10, 48, 48, 3)\n",
      "(16, 1, 10, 48, 48, 1)\n"
     ]
    }
   ],
   "source": [
    "\n",
    "images,labels = d.sample_batch('meta_train',16)\n",
    "\n",
    "print(images.shape)\n",
    "print(labels.shape)\n",
    "b,n,k,w,h,c = images.shape\n",
    "images = images.reshape((b*n*k,w,h,c))\n",
    "labels = labels.reshape((b*n*k,w,h,1))"
   ]
  },
  {
   "cell_type": "code",
   "execution_count": 8,
   "metadata": {},
   "outputs": [],
   "source": [
    "# images[0][0].shape"
   ]
  },
  {
   "cell_type": "code",
   "execution_count": 11,
   "metadata": {},
   "outputs": [
    {
     "name": "stdout",
     "output_type": "stream",
     "text": [
      "Segmentation Models: using `tf.keras` framework.\n"
     ]
    }
   ],
   "source": [
    "# from segmentation_models import Unet\n",
    "import segmentation_models as sm\n",
    "from segmentation_models import get_preprocessing\n",
    "from segmentation_models.losses import bce_jaccard_loss\n",
    "# from segmentation_models.losses import bce_dice_loss\n",
    "from segmentation_models.metrics import iou_score\n",
    "\n",
    "\n",
    "BACKBONE='mobilenet'\n",
    "preprocess_input = get_preprocessing(BACKBONE)\n",
    "# model = Unet(BACKBONE, encoder_weights='imagenet')"
   ]
  },
  {
   "cell_type": "code",
   "execution_count": 12,
   "metadata": {},
   "outputs": [],
   "source": [
    "# model.m.layers[2].bias"
   ]
  },
  {
   "cell_type": "code",
   "execution_count": 13,
   "metadata": {},
   "outputs": [],
   "source": [
    "def get_unet(img_rows,img_cols):\n",
    "    inputs = tf.keras.layers.Input((img_rows, img_cols, 3))\n",
    "    # tf.keras.layers.SeparableConv2D(fil)\n",
    "    conv1 = tf.keras.layers.SeparableConv2D(32, (3, 3), activation='relu', padding='same')(inputs)\n",
    "    conv1 = tf.keras.layers.SeparableConv2D(32, (3, 3), activation='relu', padding='same')(conv1)\n",
    "    pool1 = tf.keras.layers.MaxPooling2D(pool_size=(2, 2))(conv1)\n",
    "\n",
    "    conv2 = tf.keras.layers.SeparableConv2D(64, (3, 3), activation='relu', padding='same')(pool1)\n",
    "    conv2 = tf.keras.layers.SeparableConv2D(64, (3, 3), activation='relu', padding='same')(conv2)\n",
    "    pool2 = tf.keras.layers.MaxPooling2D(pool_size=(2, 2))(conv2)\n",
    "\n",
    "    conv3 = tf.keras.layers.SeparableConv2D(128, (3, 3), activation='relu', padding='same')(pool2)\n",
    "    conv3 = tf.keras.layers.SeparableConv2D(128, (3, 3), activation='relu', padding='same')(conv3)\n",
    "    pool3 = tf.keras.layers.MaxPooling2D(pool_size=(2, 2))(conv3)\n",
    "\n",
    "    conv4 = tf.keras.layers.SeparableConv2D(256, (3, 3), activation='relu', padding='same')(pool3)\n",
    "    conv4 = tf.keras.layers.SeparableConv2D(256, (3, 3), activation='relu', padding='same')(conv4)\n",
    "    pool4 = tf.keras.layers.MaxPooling2D(pool_size=(2, 2))(conv4)\n",
    "\n",
    "    conv5 = tf.keras.layers.SeparableConv2D(512, (3, 3), activation='relu', padding='same')(pool4)\n",
    "    conv5 = tf.keras.layers.SeparableConv2D(512, (3, 3), activation='relu', padding='same')(conv5)\n",
    "\n",
    "    up6 = tf.keras.layers.concatenate([tf.keras.layers.Conv2DTranspose(256, (2, 2), strides=(2, 2), padding='same')(conv5), conv4], axis=3)\n",
    "    conv6 = tf.keras.layers.SeparableConv2D(256, (3, 3), activation='relu', padding='same')(up6)\n",
    "    conv6 = tf.keras.layers.SeparableConv2D(256, (3, 3), activation='relu', padding='same')(conv6)\n",
    "\n",
    "    up7 = tf.keras.layers.concatenate([tf.keras.layers.Conv2DTranspose(128, (2, 2), strides=(2, 2), padding='same')(conv6), conv3], axis=3)\n",
    "    conv7 = tf.keras.layers.SeparableConv2D(128, (3, 3), activation='relu', padding='same')(up7)\n",
    "    conv7 = tf.keras.layers.SeparableConv2D(128, (3, 3), activation='relu', padding='same')(conv7)\n",
    "\n",
    "    up8 = tf.keras.layers.concatenate([tf.keras.layers.Conv2DTranspose(64, (2, 2), strides=(2, 2), padding='same')(conv7), conv2], axis=3)\n",
    "    conv8 = tf.keras.layers.SeparableConv2D(64, (3, 3), activation='relu', padding='same')(up8)\n",
    "    conv8 =tf.keras.layers.SeparableConv2D(64, (3, 3), activation='relu', padding='same')(conv8)\n",
    "\n",
    "    up9 =tf.keras.layers.concatenate([tf.keras.layers.Conv2DTranspose(32, (2, 2), strides=(2, 2), padding='same')(conv8), conv1], axis=3)\n",
    "    conv9 =tf.keras.layers.SeparableConv2D(32, (3, 3), activation='relu', padding='same')(up9)\n",
    "    conv9 =tf.keras.layers.SeparableConv2D(32, (3, 3), activation='relu', padding='same')(conv9)\n",
    "\n",
    "    conv10 =tf.keras.layers.SeparableConv2D(1, (1, 1), activation='sigmoid')(conv9)\n",
    "\n",
    "    model = tf.keras.Model(inputs=[inputs], outputs=[conv10])\n",
    "\n",
    "    # model.compile(optimizer=tfAdam(lr=1e-5), loss=dice_coef_loss, metrics=[dice_coef])\n",
    "\n",
    "    return model"
   ]
  },
  {
   "cell_type": "code",
   "execution_count": 9,
   "metadata": {},
   "outputs": [],
   "source": [
    "# m=get_unet(48,48)\n",
    "# m.summary()"
   ]
  },
  {
   "cell_type": "code",
   "execution_count": 10,
   "metadata": {},
   "outputs": [],
   "source": [
    "# !apt-get install gcc python3-dev -y"
   ]
  },
  {
   "cell_type": "code",
   "execution_count": 11,
   "metadata": {},
   "outputs": [],
   "source": [
    "# !pip install nvstatsrecorder"
   ]
  },
  {
   "cell_type": "code",
   "execution_count": 12,
   "metadata": {},
   "outputs": [],
   "source": [
    "# for i in range(len(m.trainable_weights)):\n",
    "#     print(m.trainable_weights[i].name)"
   ]
  },
  {
   "cell_type": "code",
   "execution_count": 13,
   "metadata": {},
   "outputs": [],
   "source": [
    "# for j in range(len(m.layers)):\n",
    "#             print(j,m.layers[j].name)\n",
    "            \n",
    "#             if j not in [0,3,6,9,12,16,20,24,28]:\n",
    "#                 if j in [15,19,23,27]:\n",
    "#                     print(j,m.layers[j].kernel.name,m.layers[j].bias.name)\n",
    "#                 else:\n",
    "#                     print(j,m.layers[j].name,m.layers[j].depthwise_kernel.name,m.layers[j].pointwise_kernel.name,m.layers[j].bias.name)"
   ]
  },
  {
   "cell_type": "code",
   "execution_count": 13,
   "metadata": {},
   "outputs": [],
   "source": [
    "# for layer in model.trainable_weights:\n",
    "#     print(layer.name,layer.shape)\n",
    "    # print(w.shape)"
   ]
  },
  {
   "cell_type": "code",
   "execution_count": 14,
   "metadata": {
    "tags": []
   },
   "outputs": [],
   "source": [
    "# for layer in model.trainable_weights:\n",
    "#     print(layer.name,layer.shape)"
   ]
  },
  {
   "cell_type": "code",
   "execution_count": 15,
   "metadata": {},
   "outputs": [],
   "source": [
    "# model.m.layers[2].weights"
   ]
  },
  {
   "cell_type": "code",
   "execution_count": 14,
   "metadata": {},
   "outputs": [],
   "source": [
    "# from segmentation_models import Unet\n",
    "import segmentation_models as sm\n",
    "from segmentation_models import get_preprocessing\n",
    "from segmentation_models.losses import bce_jaccard_loss\n",
    "\n",
    "# from segmentation_models.losses import bce_dice_loss\n",
    "# iou_score = sm.metrics.IOUScore()\n",
    "# iou_score = sm.metrics.FScore()\n",
    "# sm.metrics.FScore\n",
    "# preprocess_input = get_preprocessing('mobilenet')\n",
    "\n",
    "weights = [0.1,0.9]\n",
    "# bce = tf.keras.losses.BinaryCrossentropy(from_logits=False)\n",
    "dice_loss =sm.losses.DiceLoss(class_weights=np.array([0.1,0.9]))\n",
    "focal_loss = sm.losses.BinaryFocalLoss()\n",
    "total_loss = dice_loss + (0.5 * focal_loss)\n",
    "iou_score = tf.keras.metrics.MeanIoU(num_classes=2)\n",
    "\n",
    "from functools import partial\n",
    "\n",
    "def copy_model_fn(mi,width,height):\n",
    "    copied_model = get_unet(width,height)\n",
    "    copied_model.set_weights(mi.get_weights())\n",
    "    return copied_model\n",
    "\n",
    "class MAML_UNet(tf.keras.Model):\n",
    "    def __init__(self,\n",
    "                 model_weights,\n",
    "                 width=1,\n",
    "                 height=1,\n",
    "                 num_inner_updates=1,\n",
    "                 inner_update_lr=0.4,\n",
    "                 k_shot=5,\n",
    "                 backbone='mobilenet',\n",
    "                 pretrain=False):\n",
    "        '''\n",
    "        '''\n",
    "        super(MAML_UNet, self).__init__()\n",
    "        self.width = width\n",
    "        self.height = height\n",
    "        self.inner_update_lr = inner_update_lr\n",
    "        self.get_preprocessing = get_preprocessing\n",
    "        self.iou_score = iou_score\n",
    "        self.BACKBONE = backbone\n",
    "        self.pretrain = pretrain\n",
    "        self.loss_func = total_loss\n",
    "        self.preprocess_input = get_preprocessing(self.BACKBONE)\n",
    "        if self.pretrain:\n",
    "            print(self.width,self.height)\n",
    "            self.m = get_unet(self.width,self.height)\n",
    "            self.m.load_weights(model_weights)\n",
    "            print(\"Loaded weights from: {}\".format(model_weights))\n",
    "        else:\n",
    "            self.m = get_unet(self.width,self.height)\n",
    "\n",
    "\n",
    "        # outputs_ts[i] and losses_ts_post[i] are the output and loss after i+1 inner gradient updates\n",
    "        losses_tr_pre, outputs_tr, losses_ts_post, outputs_ts = [], [], [], []\n",
    "        accuracies_tr_pre, accuracies_ts = [], []\n",
    "\n",
    "        # for each loop in the inner training loop\n",
    "        outputs_ts = [[]]*num_inner_updates\n",
    "        losses_ts_post = [[]]*num_inner_updates\n",
    "        accuracies_ts = [[]]*num_inner_updates\n",
    "\n",
    "        self.kernels = []\n",
    "        self.biases = []\n",
    "        '''\n",
    "        for j in range(len(self.m.layers)):\n",
    "            # print(j,m.layers[j].name,copied_model.layers[j].name)\n",
    "            \n",
    "            if j not in [0,3,6,9,12,16,20,24,28]:\n",
    "                # print(j,copied_model.layers[j].name)\n",
    "                # print(j,k,copied_model.layers[j].kernel.shape,m.layers[j].kernel.shape,grads[k].shape)\n",
    "                # print(j,k+1,copied_model.layers[j].bias.shape,m.layers[j].bias.shape,grads[k+1].shape)\n",
    "                # print(j,copied_model.layers[j].bias.name,copied_model.layers[j].bias.shape)\n",
    "                # print(j,copied_model.layers[j].kernel.name,m.layers[j].kernel.shape)\n",
    "                # print(grads[k].shape)\n",
    "                self.kernels.append(self.m.layers[j].kernel)\n",
    "                self.biases.append(self.m.layers[j].bias)\n",
    "        '''\n",
    "\n",
    "        # self.copied_model = copy_model_fn(self.m,self.width,self.height)\n",
    "#     @tf.function\n",
    "    def call(self,\n",
    "             inp,\n",
    "             meta_batch_size=25,\n",
    "             num_inner_updates=1):\n",
    "        def task_inner_loop(inp,reuse=True,meta_batch_size=25,num_inner_updates=1):\n",
    "            '''\n",
    "            '''\n",
    "            # the inner and outer loop data\n",
    "            # query set: (input_tr,label_tr)\n",
    "            input_tr, input_ts, label_tr, label_ts = inp\n",
    "\n",
    "            # weights corresponds to the initial weights in MAML (i.e. the meta-parameters)\n",
    "            # weights = self.w\n",
    "\n",
    "            # the predicted outputs, loss values, and accuracy for the pre-update model (with the initial weights)\n",
    "            # evaluated on the inner loop training data\n",
    "            task_output_tr_pre, task_loss_tr_pre, task_accuracy_tr_pre = None, None, None\n",
    "\n",
    "            # lists to keep track of outputs, losses, and accuracies of test data for each inner_update\n",
    "            # where task_outputs_ts[i], task_losses_ts[i], task_accuracies_ts[i] are the output, loss, and accuracy\n",
    "            # after i+1 inner gradient updates\n",
    "            task_outputs_ts, task_losses_ts, task_accuracies_ts = [], [], []\n",
    "            # model = Unet(self.BACKBONE, encoder_weights=None)\n",
    "            # for i in range(len(model.trainable_weights)):\n",
    "            #     model.trainable_weights[i].assign(weights[i])\n",
    "                \n",
    "            # model = copy_model_fn(self.m,input_tr) \n",
    "            # model(input_tr)\n",
    "            # copy_model(input_tr)\n",
    "            ######################################\n",
    "            ############### MAML #################\n",
    "            # copied_model = copy_model_fn(self.m,self.width,self.height)\n",
    "            \n",
    "            with tf.GradientTape(persistent=True) as tape:\n",
    "                # print(input_tr.shape)\n",
    "                # tape.watch(model.trainable_weights)\n",
    "                copied_model = copy_model_fn(self.m,self.width,self.height)\n",
    "#                 tape.watch(copied_model.trainable_weights)\n",
    "                task_output_tr_pre = copied_model(input_tr)# logits\n",
    "                # print(len(self.copied_model.layers))\n",
    "                task_loss_tr_pre = self.loss_func(label_tr,task_output_tr_pre)\n",
    "                grads = tape.gradient(task_loss_tr_pre,copied_model.trainable_weights)\n",
    "                \n",
    "                '''\n",
    "                for j in range(len(self.m.layers)):\n",
    "                    # print(j,m.layers[j].name,copied_model.layers[j].name)\n",
    "                    \n",
    "                    if j not in [0,3,6,9,12,16,20,24,28]:\n",
    "                        # print(j,len(self.m.layers),len(self.copied_model.layers),len(grads),self.m.layers[j].name,self.copied_model.layers[j].name)\n",
    "                        # print(j,k,copied_model.layers[j].kernel.shape,m.layers[j].kernel.shape,grads[k].shape)\n",
    "                        # print(j,k+1,copied_model.layers[j].bias.shape,m.layers[j].bias.shape,grads[k+1].shape)\n",
    "                        # print(j,copied_model.layers[j].bias.name,copied_model.layers[j].bias.shape)\n",
    "                        # print(j,copied_model.layers[j].kernel.name,m.layers[j].kernel.shape)\n",
    "                        # print(grads[k].shape)\n",
    "                        copied_model.layers[j].kernel = self.m.layers[j].kernel - self.inner_update_lr*grads[k]\n",
    "                        copied_model.layers[j].bias = self.m.layers[j].bias - self.inner_update_lr*grads[k+1]\n",
    "                        k+=2\n",
    "                '''\n",
    "#                 for i in range(len(copied_model.trainable_weights)):\n",
    "#                     copied_model.trainable_weights[i] = self.m.trainable_weights[i]-self.inner_update_lr*grads[i]\n",
    "                k=0\n",
    "                for j in range(len(self.m.layers)):\n",
    "                    # print(j,m.layers[j].name)\n",
    "                    \n",
    "                    if j not in [0,3,6,9,12,16,20,24,28]:\n",
    "                        if j in [15,19,23,27]:\n",
    "                            # print(j,m.layers[j].kernel.name,m.layers[j].bias.name)\n",
    "#                             print(copied_model.layers[j].kernel.shape)\n",
    "                            copied_model.layers[j].kernel=self.m.layers[j].kernel - self.inner_update_lr*grads[k]\n",
    "                            copied_model.layers[j].bias=self.m.layers[j].bias - self.inner_update_lr*grads[k+1]\n",
    "                            k+=2\n",
    "#                             print(copied_model.layers[j].kernel.shape)\n",
    "                            copied_model.layers[j].trainable=True\n",
    "                        else:\n",
    "                            # print(j,m.layers[j].name,m.layers[j].depthwise_kernel.name,m.layers[j].pointwise_kernel.name,m.layers[j].bias.name)\n",
    "                            copied_model.layers[j].depthwise_kernel=self.m.layers[j].depthwise_kernel - self.inner_update_lr*grads[k]\n",
    "                            copied_model.layers[j].pointwise_kernel=self.m.layers[j].pointwise_kernel - self.inner_update_lr*grads[k+1]\n",
    "                            copied_model.layers[j].bias=self.m.layers[j].bias - self.inner_update_lr*grads[k+2]\n",
    "                            k+=3\n",
    "                            copied_model.layers[j].trainable=True\n",
    "#                 for j in ra\n",
    "#                 print(\"Len of copied weights:\")\n",
    "#                 print(\"Len of weights: {}\".format(len(copied_model.get_weights())))\n",
    "# #                 copied_model2 = copy_model_fn(copied_model,self.width,self.height)\n",
    "#                 task_output_tr_pre2 = copied_model(input_tr)# logits\n",
    "#                 task_loss_tr_pre2 = self.loss_func(label_tr,task_output_tr_pre2)\n",
    "#                 grads = tape.gradient(task_loss_tr_pre2,copied_model.trainable_weights)\n",
    "#                 print(len(grads))\n",
    "# #                 k=0\n",
    "#                 k=0\n",
    "#                 for j in range(len(self.m.layers)):\n",
    "#                     if j not in [0,3,6,9,12,16,20,24,28]:\n",
    "#                         if j in [15,19,23,27]:\n",
    "#                             # print(j,m.layers[j].kernel.name,m.layers[j].bias.name)\n",
    "#                             copied_model.layers2[j].kernel = copied_model.layers[j].kernel - self.inner_update_lr*grads[k]\n",
    "#                             copied_model.layers2[j].bias = copied_model.layers[j].bias - self.inner_update_lr*grads[k+1]\n",
    "#                             k+=2\n",
    "#                         else:\n",
    "#                             # print(j,m.layers[j].name,m.layers[j].depthwise_kernel.name,m.layers[j].pointwise_kernel.name,m.layers[j].bias.name)\n",
    "#                             copied_model.layers2[j].depthwise_kernel = copied_model.layers[j].depthwise_kernel - self.inner_update_lr*grads[k]\n",
    "#                             copied_model.layers2[j].pointwise_kernel = copied_model.layers[j].pointwise_kernel - self.inner_update_lr*grads[k+1]\n",
    "#                             copied_model.layers2[j].bias = copied_model.layers[j].bias - self.inner_update_lr*grads[k+2]\n",
    "#                             k+=3\n",
    "\n",
    "                output_ts = copied_model(input_ts)\n",
    "                loss_ts = self.loss_func(label_ts,output_ts)\n",
    "                # tape.stop_recording()\n",
    "#                 del copied_model\n",
    "                task_outputs_ts.append(output_ts)\n",
    "                # print(\"task_outputs_ts {}\".format(task_outputs_ts))#(B,5)\n",
    "                task_losses_ts.append(loss_ts)\n",
    "                # if num_inner_updates > 1:\n",
    "                    # NOTE(ANDREW): tf.keras hack does not work for multiple gradient updates\n",
    "                    # model.set_weights(fast_weights)\n",
    "                    # for update in range(num_inner_updates-1):\n",
    "                    #     outputt = copy_model(input_tr,training=True)\n",
    "                    #     losss = self.loss_func(label_tr,outputt)\n",
    "                    #     grads = tape.gradient(losss,copy_model.trainable_weights)\n",
    "\n",
    "                    #     for j in range(len(model.trainable_weights)):\n",
    "                    #         copy_model.trainable_weights[j] = copy_model.trainable_weights[j] - self.inner_update_lr*grads[j]\n",
    "                        \n",
    "                    #     outputtt = copy_model(input_ts,training=True)\n",
    "                    #     task_outputs_ts.append(outputtt)\n",
    "                    #     task_losses_ts.append(self.loss_func(label_ts,outputtt))\n",
    "            # Compute accuracies from output predictions\n",
    "            task_accuracy_tr_pre = self.iou_score(label_tr,task_output_tr_pre)\n",
    "\n",
    "            for j in range(num_inner_updates):\n",
    "                task_accuracies_ts.append(self.iou_score(label_ts,task_outputs_ts[j]))\n",
    "\n",
    "            task_output = [task_output_tr_pre, task_outputs_ts, task_loss_tr_pre, task_losses_ts, task_accuracy_tr_pre, task_accuracies_ts]\n",
    "\n",
    "            return task_output\n",
    "\n",
    "        out_dtype = [tf.float32, [tf.float32]*num_inner_updates, tf.float32, [tf.float32]*num_inner_updates]\n",
    "        out_dtype.extend([tf.float32, [tf.float32]*num_inner_updates])\n",
    "        task_inner_loop_partial = partial(task_inner_loop, meta_batch_size=meta_batch_size, num_inner_updates=num_inner_updates)\n",
    "        result = tf.map_fn(task_inner_loop_partial,\n",
    "                        elems=(input_tr, input_ts, label_tr, label_ts),\n",
    "                        dtype=out_dtype,\n",
    "                        parallel_iterations=meta_batch_size)\n",
    "        return result\n",
    "\n",
    "\n",
    "\n",
    "\n",
    "\n",
    "        "
   ]
  },
  {
   "cell_type": "code",
   "execution_count": null,
   "metadata": {},
   "outputs": [],
   "source": []
  },
  {
   "cell_type": "code",
   "execution_count": 15,
   "metadata": {},
   "outputs": [
    {
     "name": "stdout",
     "output_type": "stream",
     "text": [
      "48 48\n",
      "Loaded weights from: pre-trained-unet-48.h5\n"
     ]
    }
   ],
   "source": [
    " model = MAML_UNet('pre-trained-unet-48.h5',\n",
    "                 width=48,\n",
    "                 height=48,\n",
    "                 num_inner_updates=1,\n",
    "                 inner_update_lr=0.4,\n",
    "                 k_shot=k_shot_2,\n",
    "                 backbone='mobilenet',\n",
    "                 pretrain=True)"
   ]
  },
  {
   "cell_type": "code",
   "execution_count": 16,
   "metadata": {},
   "outputs": [],
   "source": [
    "# model.m.load_weights('MAML_unet_final.h5')"
   ]
  },
  {
   "cell_type": "code",
   "execution_count": 18,
   "metadata": {},
   "outputs": [],
   "source": [
    "# import gc\n",
    "# # import tensorflow as tf\n",
    "# from tensorflow.keras import backend as K\n",
    "# K.clear_session()\n",
    "# gc.collect()\n",
    "# del model"
   ]
  },
  {
   "cell_type": "code",
   "execution_count": 20,
   "metadata": {},
   "outputs": [
    {
     "name": "stdout",
     "output_type": "stream",
     "text": [
      "(32, 48, 48, 3) (32, 48, 48, 1)\n"
     ]
    }
   ],
   "source": [
    "# im = images[0][0]\n",
    "# l = labels[0][0]\n",
    "print(images.shape,labels.shape)\n",
    "im = model.preprocess_input(images)\n",
    "preds_val = model.m.predict(im)\n",
    "preds_val_t = (preds_val > 0.5)"
   ]
  },
  {
   "cell_type": "code",
   "execution_count": 21,
   "metadata": {},
   "outputs": [
    {
     "data": {
      "text/plain": [
       "(32, 48, 48, 1)"
      ]
     },
     "execution_count": 21,
     "metadata": {},
     "output_type": "execute_result"
    }
   ],
   "source": [
    "preds_val.shape"
   ]
  },
  {
   "cell_type": "code",
   "execution_count": 23,
   "metadata": {},
   "outputs": [
    {
     "data": {
      "text/plain": [
       "0.421502"
      ]
     },
     "execution_count": 23,
     "metadata": {},
     "output_type": "execute_result"
    }
   ],
   "source": [
    "iou_score(labels,preds_val).numpy()"
   ]
  },
  {
   "cell_type": "markdown",
   "metadata": {},
   "source": [
    "### Baseline: 0.421502"
   ]
  },
  {
   "cell_type": "code",
   "execution_count": 24,
   "metadata": {
    "scrolled": true
   },
   "outputs": [
    {
     "name": "stderr",
     "output_type": "stream",
     "text": [
      "Clipping input data to the valid range for imshow with RGB data ([0..1] for floats or [0..255] for integers).\n",
      "Clipping input data to the valid range for imshow with RGB data ([0..1] for floats or [0..255] for integers).\n",
      "Clipping input data to the valid range for imshow with RGB data ([0..1] for floats or [0..255] for integers).\n",
      "Clipping input data to the valid range for imshow with RGB data ([0..1] for floats or [0..255] for integers).\n",
      "Clipping input data to the valid range for imshow with RGB data ([0..1] for floats or [0..255] for integers).\n",
      "Clipping input data to the valid range for imshow with RGB data ([0..1] for floats or [0..255] for integers).\n",
      "Clipping input data to the valid range for imshow with RGB data ([0..1] for floats or [0..255] for integers).\n",
      "Clipping input data to the valid range for imshow with RGB data ([0..1] for floats or [0..255] for integers).\n",
      "Clipping input data to the valid range for imshow with RGB data ([0..1] for floats or [0..255] for integers).\n",
      "Clipping input data to the valid range for imshow with RGB data ([0..1] for floats or [0..255] for integers).\n",
      "Clipping input data to the valid range for imshow with RGB data ([0..1] for floats or [0..255] for integers).\n",
      "Clipping input data to the valid range for imshow with RGB data ([0..1] for floats or [0..255] for integers).\n"
     ]
    },
    {
     "data": {
      "image/png": "[encoded data removed]",
      "text/plain": [
       "<Figure size 1440x1440 with 36 Axes>"
      ]
     },
     "metadata": {
      "needs_background": "light"
     },
     "output_type": "display_data"
    }
   ],
   "source": [
    "plt.figure(figsize=(20,20))\n",
    "x, y = 4,3 #cols, rows\n",
    "for i in range(y):  \n",
    "    for j in range(x):\n",
    "        # train image\n",
    "        plt.subplot(y*3, x, i*3*x+j+1)\n",
    "        pos = i*x+j\n",
    "        plt.imshow(im[pos])\n",
    "        #plt.title('Image #{}\\nIOU {}'.format(pos,round(cal_iou(np.squeeze(Y_val[pos]), np.squeeze(preds_val_t[pos])),2)))\n",
    "        plt.axis('off')\n",
    "        plt.subplot(y*3, x, (i*3+1)*x+j+1)\n",
    "        plt.imshow(np.squeeze(labels[pos]))\n",
    "        plt.title('Mask')\n",
    "        plt.axis('off')\n",
    "        plt.subplot(y*3, x, (i*3+2)*x+j+1)\n",
    "        plt.imshow(np.squeeze(preds_val_t[pos]))\n",
    "        plt.title('Predict')\n",
    "        plt.axis('off')\n",
    "plt.show()"
   ]
  },
  {
   "cell_type": "code",
   "execution_count": 22,
   "metadata": {},
   "outputs": [
    {
     "name": "stdout",
     "output_type": "stream",
     "text": [
      "8 1 4 48 48 3\n",
      "images: (8, 4, 48, 48, 3)\n"
     ]
    }
   ],
   "source": [
    "# images,\n",
    "# k_shot=2\n",
    "images,labels = d.sample_batch('meta_train',8)\n",
    "b,n,k,w,h,c = images.shape\n",
    "print(b,n,k,w,h,c)\n",
    "images = images.reshape((b,n*k,w,h,c))\n",
    "print(\"images: {}\".format(images.shape))\n",
    "labels = labels.reshape((b,n*k,w,h,1))\n",
    "\n",
    "input_tr  = images[:,:k_shot]\n",
    "label_tr = labels[:,:k_shot]\n",
    "input_ts = images[:,k_shot:]\n",
    "label_ts = labels[:,k_shot:]\n",
    "\n",
    "input_tr = preprocess_input(input_tr)\n",
    "input_tr = tf.convert_to_tensor(input_tr,tf.float32)\n",
    "input_ts = preprocess_input(input_ts)\n",
    "input_ts = tf.convert_to_tensor(input_ts,tf.float32)\n",
    "\n",
    "label_tr = tf.convert_to_tensor(label_tr,tf.float32)\n",
    "label_ts = tf.convert_to_tensor(label_ts,tf.float32)\n",
    "inp = (input_tr, input_ts, label_tr, label_ts)\n",
    "# result = model(inp, meta_batch_size=16, num_inner_updates=1)"
   ]
  },
  {
   "cell_type": "code",
   "execution_count": 16,
   "metadata": {},
   "outputs": [],
   "source": [
    "# model.m.trainable_variables\n",
    "from time import time"
   ]
  },
  {
   "cell_type": "code",
   "execution_count": 17,
   "metadata": {},
   "outputs": [],
   "source": [
    "import gc\n",
    "def outer_train_step(inp, model, optim, meta_batch_size=25, num_inner_updates=1):\n",
    "  # note here, outer tape constructed to watch all model.trainable_variables!\n",
    "  # inner_loop is called in model(...)\n",
    "  # no need to do persistent, since only 1 outer_tape.gradient needs to be called\n",
    "  with tf.GradientTape(persistent=False) as outer_tape:\n",
    "    result = model(inp, meta_batch_size=meta_batch_size, num_inner_updates=num_inner_updates)\n",
    "\n",
    "    outputs_tr, outputs_ts, losses_tr_pre, losses_ts, accuracies_tr_pre, accuracies_ts = result\n",
    "\n",
    "    total_losses_ts = [tf.reduce_mean(loss_ts) for loss_ts in losses_ts]\n",
    "  # dont need to update self.inner_update_lr_dict,\n",
    "  # since learn rate is part of the model.training_variables\n",
    "  gradients = outer_tape.gradient(total_losses_ts[-1], model.m.trainable_weights)\n",
    "  # this will update ALL PARAMETERS, including the LEARN RATE!\n",
    "  # rather than manual gradient descent, Adam (adaptive grad descent) used to update params\n",
    "  optim.apply_gradients(zip(gradients, model.m.trainable_weights))\n",
    "  # tf.keras.backend.clear_session()\n",
    "  # gc.collect()\n",
    "  total_loss_tr_pre = tf.reduce_mean(losses_tr_pre)\n",
    "  total_accuracy_tr_pre = tf.reduce_mean(accuracies_tr_pre)\n",
    "  total_accuracies_ts = [tf.reduce_mean(accuracy_ts) for accuracy_ts in accuracies_ts]\n",
    "  # tf.keras.backend.clear_session()\n",
    "  return outputs_tr, outputs_ts, total_loss_tr_pre, total_losses_ts, total_accuracy_tr_pre, total_accuracies_ts\n",
    "\n",
    "def outer_eval_step(inp, model, meta_batch_size=25, num_inner_updates=1):\n",
    "  result = model(inp, meta_batch_size=meta_batch_size, num_inner_updates=num_inner_updates)\n",
    "\n",
    "  outputs_tr, outputs_ts, losses_tr_pre, losses_ts, accuracies_tr_pre, accuracies_ts = result\n",
    "\n",
    "  total_loss_tr_pre = tf.reduce_mean(losses_tr_pre)\n",
    "  total_losses_ts = [tf.reduce_mean(loss_ts) for loss_ts in losses_ts]\n",
    "\n",
    "  total_accuracy_tr_pre = tf.reduce_mean(accuracies_tr_pre)\n",
    "  total_accuracies_ts = [tf.reduce_mean(accuracy_ts) for accuracy_ts in accuracies_ts]\n",
    "  # tf.keras.backend.clear_session()\n",
    "  # gc.collect()\n",
    "  return outputs_tr, outputs_ts, total_loss_tr_pre, total_losses_ts, total_accuracy_tr_pre, total_accuracies_ts\n",
    "\n",
    "optimizer = tf.keras.optimizers.Adam(learning_rate=0.001)\n",
    "# t0 = time()\n",
    "# result = outer_train_step(inp, model, optimizer, meta_batch_size=8, num_inner_updates=1)\n",
    "# print(\"Time: {}\".format(time()-t0))"
   ]
  },
  {
   "cell_type": "code",
   "execution_count": 18,
   "metadata": {
    "scrolled": true
   },
   "outputs": [
    {
     "name": "stderr",
     "output_type": "stream",
     "text": [
      "\r",
      "  0%|          | 0/200 [00:00<?, ?it/s]"
     ]
    },
    {
     "name": "stdout",
     "output_type": "stream",
     "text": [
      "WARNING:tensorflow:Setting parallel_iterations > 1 has no effect when executing eagerly. Consider calling map_fn with tf.function to execute fn in parallel.\n",
      "WARNING:tensorflow:Calling GradientTape.gradient on a persistent tape inside its context is significantly less efficient than calling it outside the context (it causes the gradient ops to be recorded on the tape, leading to increased CPU and memory usage). Only call GradientTape.gradient inside the context if you actually want to trace the gradient in order to compute higher order derivatives.\n"
     ]
    },
    {
     "name": "stderr",
     "output_type": "stream",
     "text": [
      "  5%|▌         | 10/200 [00:37<10:12,  3.22s/it]"
     ]
    },
    {
     "name": "stdout",
     "output_type": "stream",
     "text": [
      "Iteration 10: pre-inner-loop train accuracy: 0.48831, post-inner-loop test accuracy: 0.48813\n"
     ]
    },
    {
     "name": "stderr",
     "output_type": "stream",
     "text": [
      "\r",
      "  6%|▌         | 11/200 [00:47<15:57,  5.07s/it]"
     ]
    },
    {
     "name": "stdout",
     "output_type": "stream",
     "text": [
      "Meta-validation pre-inner-loop train accuracy: 0.48938, meta-validation post-inner-loop test accuracy: 0.48919\n"
     ]
    },
    {
     "name": "stderr",
     "output_type": "stream",
     "text": [
      " 10%|█         | 20/200 [01:13<09:01,  3.01s/it]"
     ]
    },
    {
     "name": "stdout",
     "output_type": "stream",
     "text": [
      "Iteration 20: pre-inner-loop train accuracy: 0.48860, post-inner-loop test accuracy: 0.48852\n"
     ]
    },
    {
     "name": "stderr",
     "output_type": "stream",
     "text": [
      "\r",
      " 10%|█         | 21/200 [01:20<12:37,  4.23s/it]"
     ]
    },
    {
     "name": "stdout",
     "output_type": "stream",
     "text": [
      "Meta-validation pre-inner-loop train accuracy: 0.48808, meta-validation post-inner-loop test accuracy: 0.48802\n"
     ]
    },
    {
     "name": "stderr",
     "output_type": "stream",
     "text": [
      " 15%|█▌        | 30/200 [01:46<08:12,  2.90s/it]"
     ]
    },
    {
     "name": "stdout",
     "output_type": "stream",
     "text": [
      "Iteration 30: pre-inner-loop train accuracy: 0.48843, post-inner-loop test accuracy: 0.48838\n"
     ]
    },
    {
     "name": "stderr",
     "output_type": "stream",
     "text": [
      "\r",
      " 16%|█▌        | 31/200 [01:54<12:22,  4.39s/it]"
     ]
    },
    {
     "name": "stdout",
     "output_type": "stream",
     "text": [
      "Meta-validation pre-inner-loop train accuracy: 0.48767, meta-validation post-inner-loop test accuracy: 0.48762\n"
     ]
    },
    {
     "name": "stderr",
     "output_type": "stream",
     "text": [
      " 20%|██        | 40/200 [02:20<07:51,  2.95s/it]"
     ]
    },
    {
     "name": "stdout",
     "output_type": "stream",
     "text": [
      "Iteration 40: pre-inner-loop train accuracy: 0.48828, post-inner-loop test accuracy: 0.48824\n"
     ]
    },
    {
     "name": "stderr",
     "output_type": "stream",
     "text": [
      "\r",
      " 20%|██        | 41/200 [02:26<10:27,  3.94s/it]"
     ]
    },
    {
     "name": "stdout",
     "output_type": "stream",
     "text": [
      "Meta-validation pre-inner-loop train accuracy: 0.48817, meta-validation post-inner-loop test accuracy: 0.48814\n"
     ]
    },
    {
     "name": "stderr",
     "output_type": "stream",
     "text": [
      " 25%|██▌       | 50/200 [02:52<07:15,  2.90s/it]"
     ]
    },
    {
     "name": "stdout",
     "output_type": "stream",
     "text": [
      "Iteration 50: pre-inner-loop train accuracy: 0.48828, post-inner-loop test accuracy: 0.48825\n"
     ]
    },
    {
     "name": "stderr",
     "output_type": "stream",
     "text": [
      "\r",
      " 26%|██▌       | 51/200 [02:59<10:09,  4.09s/it]"
     ]
    },
    {
     "name": "stdout",
     "output_type": "stream",
     "text": [
      "Meta-validation pre-inner-loop train accuracy: 0.48801, meta-validation post-inner-loop test accuracy: 0.48798\n"
     ]
    },
    {
     "name": "stderr",
     "output_type": "stream",
     "text": [
      " 30%|███       | 60/200 [03:25<06:44,  2.89s/it]"
     ]
    },
    {
     "name": "stdout",
     "output_type": "stream",
     "text": [
      "Iteration 60: pre-inner-loop train accuracy: 0.48823, post-inner-loop test accuracy: 0.48821\n"
     ]
    },
    {
     "name": "stderr",
     "output_type": "stream",
     "text": [
      "\r",
      " 30%|███       | 61/200 [03:32<09:26,  4.07s/it]"
     ]
    },
    {
     "name": "stdout",
     "output_type": "stream",
     "text": [
      "Meta-validation pre-inner-loop train accuracy: 0.48784, meta-validation post-inner-loop test accuracy: 0.48782\n"
     ]
    },
    {
     "name": "stderr",
     "output_type": "stream",
     "text": [
      " 35%|███▌      | 70/200 [03:58<06:09,  2.84s/it]"
     ]
    },
    {
     "name": "stdout",
     "output_type": "stream",
     "text": [
      "Iteration 70: pre-inner-loop train accuracy: 0.48819, post-inner-loop test accuracy: 0.48817\n"
     ]
    },
    {
     "name": "stderr",
     "output_type": "stream",
     "text": [
      "\r",
      " 36%|███▌      | 71/200 [04:05<09:04,  4.22s/it]"
     ]
    },
    {
     "name": "stdout",
     "output_type": "stream",
     "text": [
      "Meta-validation pre-inner-loop train accuracy: 0.48783, meta-validation post-inner-loop test accuracy: 0.48780\n"
     ]
    },
    {
     "name": "stderr",
     "output_type": "stream",
     "text": [
      " 40%|████      | 80/200 [04:31<05:51,  2.93s/it]"
     ]
    },
    {
     "name": "stdout",
     "output_type": "stream",
     "text": [
      "Iteration 80: pre-inner-loop train accuracy: 0.48814, post-inner-loop test accuracy: 0.48812\n"
     ]
    },
    {
     "name": "stderr",
     "output_type": "stream",
     "text": [
      "\r",
      " 40%|████      | 81/200 [04:38<07:55,  4.00s/it]"
     ]
    },
    {
     "name": "stdout",
     "output_type": "stream",
     "text": [
      "Meta-validation pre-inner-loop train accuracy: 0.48766, meta-validation post-inner-loop test accuracy: 0.48764\n"
     ]
    },
    {
     "name": "stderr",
     "output_type": "stream",
     "text": [
      " 45%|████▌     | 90/200 [05:04<05:25,  2.96s/it]"
     ]
    },
    {
     "name": "stdout",
     "output_type": "stream",
     "text": [
      "Iteration 90: pre-inner-loop train accuracy: 0.48809, post-inner-loop test accuracy: 0.48807\n"
     ]
    },
    {
     "name": "stderr",
     "output_type": "stream",
     "text": [
      "\r",
      " 46%|████▌     | 91/200 [05:10<07:06,  3.91s/it]"
     ]
    },
    {
     "name": "stdout",
     "output_type": "stream",
     "text": [
      "Meta-validation pre-inner-loop train accuracy: 0.48771, meta-validation post-inner-loop test accuracy: 0.48770\n"
     ]
    },
    {
     "name": "stderr",
     "output_type": "stream",
     "text": [
      " 50%|█████     | 100/200 [05:35<04:41,  2.81s/it]"
     ]
    },
    {
     "name": "stdout",
     "output_type": "stream",
     "text": [
      "Iteration 100: pre-inner-loop train accuracy: 0.48806, post-inner-loop test accuracy: 0.48804\n"
     ]
    },
    {
     "name": "stderr",
     "output_type": "stream",
     "text": [
      "\r",
      " 50%|█████     | 101/200 [05:42<06:38,  4.02s/it]"
     ]
    },
    {
     "name": "stdout",
     "output_type": "stream",
     "text": [
      "Meta-validation pre-inner-loop train accuracy: 0.48773, meta-validation post-inner-loop test accuracy: 0.48771\n"
     ]
    },
    {
     "name": "stderr",
     "output_type": "stream",
     "text": [
      " 55%|█████▌    | 110/200 [06:08<04:18,  2.87s/it]"
     ]
    },
    {
     "name": "stdout",
     "output_type": "stream",
     "text": [
      "Iteration 110: pre-inner-loop train accuracy: 0.48803, post-inner-loop test accuracy: 0.48801\n"
     ]
    },
    {
     "name": "stderr",
     "output_type": "stream",
     "text": [
      "\r",
      " 56%|█████▌    | 111/200 [06:15<05:58,  4.02s/it]"
     ]
    },
    {
     "name": "stdout",
     "output_type": "stream",
     "text": [
      "Meta-validation pre-inner-loop train accuracy: 0.48767, meta-validation post-inner-loop test accuracy: 0.48766\n"
     ]
    },
    {
     "name": "stderr",
     "output_type": "stream",
     "text": [
      " 65%|██████▌   | 130/200 [07:13<03:21,  2.88s/it]"
     ]
    },
    {
     "name": "stdout",
     "output_type": "stream",
     "text": [
      "Iteration 130: pre-inner-loop train accuracy: 0.48797, post-inner-loop test accuracy: 0.48797\n"
     ]
    },
    {
     "name": "stderr",
     "output_type": "stream",
     "text": [
      "\r",
      " 66%|██████▌   | 131/200 [07:20<04:31,  3.94s/it]"
     ]
    },
    {
     "name": "stdout",
     "output_type": "stream",
     "text": [
      "Meta-validation pre-inner-loop train accuracy: 0.48773, meta-validation post-inner-loop test accuracy: 0.48772\n"
     ]
    },
    {
     "name": "stderr",
     "output_type": "stream",
     "text": [
      " 70%|███████   | 140/200 [07:45<02:52,  2.87s/it]"
     ]
    },
    {
     "name": "stdout",
     "output_type": "stream",
     "text": [
      "Iteration 140: pre-inner-loop train accuracy: 0.48796, post-inner-loop test accuracy: 0.48796\n"
     ]
    },
    {
     "name": "stderr",
     "output_type": "stream",
     "text": [
      "\r",
      " 70%|███████   | 141/200 [07:52<03:56,  4.02s/it]"
     ]
    },
    {
     "name": "stdout",
     "output_type": "stream",
     "text": [
      "Meta-validation pre-inner-loop train accuracy: 0.48778, meta-validation post-inner-loop test accuracy: 0.48777\n"
     ]
    },
    {
     "name": "stderr",
     "output_type": "stream",
     "text": [
      " 75%|███████▌  | 150/200 [08:19<02:24,  2.89s/it]"
     ]
    },
    {
     "name": "stdout",
     "output_type": "stream",
     "text": [
      "Iteration 150: pre-inner-loop train accuracy: 0.48796, post-inner-loop test accuracy: 0.48795\n"
     ]
    },
    {
     "name": "stderr",
     "output_type": "stream",
     "text": [
      "\r",
      " 76%|███████▌  | 151/200 [08:25<03:16,  4.01s/it]"
     ]
    },
    {
     "name": "stdout",
     "output_type": "stream",
     "text": [
      "Meta-validation pre-inner-loop train accuracy: 0.48791, meta-validation post-inner-loop test accuracy: 0.48790\n"
     ]
    },
    {
     "name": "stderr",
     "output_type": "stream",
     "text": [
      " 80%|████████  | 160/200 [08:50<01:52,  2.81s/it]"
     ]
    },
    {
     "name": "stdout",
     "output_type": "stream",
     "text": [
      "Iteration 160: pre-inner-loop train accuracy: 0.48795, post-inner-loop test accuracy: 0.48795\n"
     ]
    },
    {
     "name": "stderr",
     "output_type": "stream",
     "text": [
      "\r",
      " 80%|████████  | 161/200 [08:57<02:42,  4.17s/it]"
     ]
    },
    {
     "name": "stdout",
     "output_type": "stream",
     "text": [
      "Meta-validation pre-inner-loop train accuracy: 0.48791, meta-validation post-inner-loop test accuracy: 0.48790\n"
     ]
    },
    {
     "name": "stderr",
     "output_type": "stream",
     "text": [
      " 85%|████████▌ | 170/200 [09:25<01:39,  3.30s/it]"
     ]
    },
    {
     "name": "stdout",
     "output_type": "stream",
     "text": [
      "Iteration 170: pre-inner-loop train accuracy: 0.48795, post-inner-loop test accuracy: 0.48794\n"
     ]
    },
    {
     "name": "stderr",
     "output_type": "stream",
     "text": [
      "\r",
      " 86%|████████▌ | 171/200 [09:32<02:12,  4.58s/it]"
     ]
    },
    {
     "name": "stdout",
     "output_type": "stream",
     "text": [
      "Meta-validation pre-inner-loop train accuracy: 0.48786, meta-validation post-inner-loop test accuracy: 0.48785\n"
     ]
    },
    {
     "name": "stderr",
     "output_type": "stream",
     "text": [
      " 90%|█████████ | 180/200 [09:57<00:56,  2.82s/it]"
     ]
    },
    {
     "name": "stdout",
     "output_type": "stream",
     "text": [
      "Iteration 180: pre-inner-loop train accuracy: 0.48795, post-inner-loop test accuracy: 0.48794\n"
     ]
    },
    {
     "name": "stderr",
     "output_type": "stream",
     "text": [
      "\r",
      " 90%|█████████ | 181/200 [10:03<01:13,  3.88s/it]"
     ]
    },
    {
     "name": "stdout",
     "output_type": "stream",
     "text": [
      "Meta-validation pre-inner-loop train accuracy: 0.48788, meta-validation post-inner-loop test accuracy: 0.48788\n"
     ]
    },
    {
     "name": "stderr",
     "output_type": "stream",
     "text": [
      " 95%|█████████▌| 190/200 [10:28<00:27,  2.80s/it]"
     ]
    },
    {
     "name": "stdout",
     "output_type": "stream",
     "text": [
      "Iteration 190: pre-inner-loop train accuracy: 0.48794, post-inner-loop test accuracy: 0.48794\n"
     ]
    },
    {
     "name": "stderr",
     "output_type": "stream",
     "text": [
      "\r",
      " 96%|█████████▌| 191/200 [10:35<00:36,  4.05s/it]"
     ]
    },
    {
     "name": "stdout",
     "output_type": "stream",
     "text": [
      "Meta-validation pre-inner-loop train accuracy: 0.48790, meta-validation post-inner-loop test accuracy: 0.48789\n"
     ]
    },
    {
     "name": "stderr",
     "output_type": "stream",
     "text": [
      "100%|██████████| 200/200 [11:02<00:00,  3.31s/it]\n"
     ]
    }
   ],
   "source": [
    "from tqdm import tqdm\n",
    "pre_accuracies, post_accuracies = [], []\n",
    "val_post_accs = []\n",
    "SUMMARY_INTERVAL = 2\n",
    "SAVE_INTERVAL = 5\n",
    "PRINT_INTERVAL = 10\n",
    "# TEST_PRINT_INTERVAL = PRINT_INTERVAL*5\n",
    "TEST_PRINT_INTERVAL = 10\n",
    "\n",
    "batch_size = 8\n",
    "num_inner_updates = 1\n",
    "meta_train_iterations = 200\n",
    "\n",
    "# from nvstatsrecorder.recorders import NVStatsRecorder, NVLinkStatsRecorder\n",
    "\n",
    "# # initialize recorders\n",
    "# nv_stats_recorder = NVStatsRecorder(gpu_index=0)\n",
    "# nvlink_stats_recorder = NVLinkStatsRecorder('lgs', gpus=[0,1,2,3])\n",
    "\n",
    "# # start recorders\n",
    "# nv_stats_recorder.start(interval=1)\n",
    "# nvlink_stats_recorder.start(interval=1)\n",
    "\n",
    "\n",
    "for itr in tqdm(range(meta_train_iterations)):\n",
    "\n",
    "#     k_shot=1*2\n",
    "    images,labels = d.sample_batch('meta_train',batch_size)\n",
    "    b,n,k,w,h,c = images.shape\n",
    "    # print(b,n,k,w,h,c)\n",
    "    images = images.reshape((b,n*k,w,h,c))\n",
    "    # print(\"images: {}\".format(images.shape))\n",
    "    labels = labels.reshape((b,n*k,w,h,1))\n",
    "\n",
    "    input_tr  = images[:,:k_shot]\n",
    "    label_tr = labels[:,:k_shot]\n",
    "    input_ts = images[:,k_shot:]\n",
    "    label_ts = labels[:,k_shot:]\n",
    "\n",
    "    input_tr = preprocess_input(input_tr)\n",
    "    input_tr = tf.convert_to_tensor(input_tr,tf.float32)\n",
    "    input_ts = preprocess_input(input_ts)\n",
    "    input_ts = tf.convert_to_tensor(input_ts,tf.float32)\n",
    "\n",
    "    label_tr = tf.convert_to_tensor(label_tr,tf.float32)\n",
    "    label_ts = tf.convert_to_tensor(label_ts,tf.float32)\n",
    "    inp = (input_tr, input_ts, label_tr, label_ts)\n",
    "    \n",
    "    result = outer_train_step(inp, model, optimizer, meta_batch_size=batch_size, num_inner_updates=num_inner_updates)\n",
    "    # gc.collect()\n",
    "    if itr % SUMMARY_INTERVAL == 0:\n",
    "      pre_accuracies.append(result[-2])\n",
    "      post_accuracies.append(result[-1][-1])\n",
    "\n",
    "    if (itr!=0) and itr % PRINT_INTERVAL == 0:\n",
    "      print_str = 'Iteration %d: pre-inner-loop train accuracy: %.5f, post-inner-loop test accuracy: %.5f' % (itr, np.mean(pre_accuracies), np.mean(post_accuracies))\n",
    "      print(print_str)\n",
    "      model.m.save_weights('MAML_unet_final.h5')\n",
    "      # pre_accuracies, post_accuracies = [], []\n",
    "    if (itr!=0) and itr % TEST_PRINT_INTERVAL == 0:\n",
    "#         k_shot=1*2\n",
    "        images,labels = d.sample_batch('meta_eval',batch_size)\n",
    "        b,n,k,w,h,c = images.shape\n",
    "        # print(b,n,k,w,h,c)\n",
    "        images = images.reshape((b,n*k,w,h,c))\n",
    "        # print(\"images: {}\".format(images.shape))\n",
    "        labels = labels.reshape((b,n*k,w,h,1))\n",
    "\n",
    "        input_tr  = images[:,:k_shot]\n",
    "        label_tr = labels[:,:k_shot]\n",
    "        input_ts = images[:,k_shot:]\n",
    "        label_ts = labels[:,k_shot:]\n",
    "\n",
    "        input_tr = preprocess_input(input_tr)\n",
    "        input_tr = tf.convert_to_tensor(input_tr,tf.float32)\n",
    "        input_ts = preprocess_input(input_ts)\n",
    "        input_ts = tf.convert_to_tensor(input_ts,tf.float32)\n",
    "\n",
    "        label_tr = tf.convert_to_tensor(label_tr,tf.float32)\n",
    "        label_ts = tf.convert_to_tensor(label_ts,tf.float32)\n",
    "        inp = (input_tr, input_ts, label_tr, label_ts)\n",
    "        result = outer_eval_step(inp, model, meta_batch_size=batch_size, num_inner_updates=num_inner_updates)\n",
    "        val_post_accs.append(result[-1][-1])\n",
    "        print('Meta-validation pre-inner-loop train accuracy: %.5f, meta-validation post-inner-loop test accuracy: %.5f' % (result[-2], result[-1][-1]))\n",
    "\n",
    "# # stop recorders\n",
    "# nv_stats_recorder.stop()\n",
    "# nvlink_stats_recorder.stop()\n",
    "\n",
    "# # get data from recorders\n",
    "# gpu_data = nv_stats_recorder.get_data()\n",
    "# nvlink_data = nvlink_stats_recorder.get_data()\n",
    "# nv_stats_recorder.plot_gpu_util(smooth=3)\n",
    "# nvlink_stats_recorder.plot_nvlink_traffic(smooth=3)\n",
    "    # return post_accuracies\n",
    "#   model_file = '.' + '/' +'model' + str(itr)\n",
    "#   print(\"Saving to \", model_file)\n",
    "#   model.save_weights(model_file)\n"
   ]
  },
  {
   "cell_type": "code",
   "execution_count": 17,
   "metadata": {},
   "outputs": [],
   "source": [
    "model.m.save_weights('cl_k_5_maml_unet_final.h5')"
   ]
  },
  {
   "cell_type": "code",
   "execution_count": 16,
   "metadata": {},
   "outputs": [
    {
     "data": {
      "text/plain": [
       "Text(0.5, 1.0, 'Clustered Split Meta Train K=5 Val Post-Inner Loop Accuracies ')"
      ]
     },
     "execution_count": 16,
     "metadata": {},
     "output_type": "execute_result"
    },
    {
     "data": {
      "image/png": "[encoded data removed]",
      "text/plain": [
       "<Figure size 432x288 with 1 Axes>"
      ]
     },
     "metadata": {
      "needs_background": "light"
     },
     "output_type": "display_data"
    }
   ],
   "source": [
    "plt.plot(val_post_accs)\n",
    "plt.title(\"Clustered Split Meta Train K=5 Val Post-Inner Loop Accuracies \")"
   ]
  },
  {
   "cell_type": "code",
   "execution_count": 17,
   "metadata": {},
   "outputs": [],
   "source": [
    "# model.m.save_weights('cl_k_1_maml_unet_final.h5')"
   ]
  },
  {
   "cell_type": "code",
   "execution_count": 18,
   "metadata": {},
   "outputs": [
    {
     "data": {
      "text/plain": [
       "Text(0.5, 1.0, 'Clustered Split Meta Train K=1 Val Post-Inner Loop Accuracies ')"
      ]
     },
     "execution_count": 18,
     "metadata": {},
     "output_type": "execute_result"
    },
    {
     "data": {
      "image/png": "[encoded data removed]",
      "text/plain": [
       "<Figure size 432x288 with 1 Axes>"
      ]
     },
     "metadata": {
      "needs_background": "light"
     },
     "output_type": "display_data"
    }
   ],
   "source": [
    "# plt.plot(val_post_accs)\n",
    "# plt.title(\"Clustered Split Meta Train K=1 Val Post-Inner Loop Accuracies \")"
   ]
  },
  {
   "cell_type": "code",
   "execution_count": null,
   "metadata": {},
   "outputs": [],
   "source": []
  },
  {
   "cell_type": "code",
   "execution_count": 18,
   "metadata": {},
   "outputs": [],
   "source": [
    "# model.m.save_weights('k_5_maml_unet_final.h5')"
   ]
  },
  {
   "cell_type": "code",
   "execution_count": null,
   "metadata": {
    "scrolled": false
   },
   "outputs": [],
   "source": [
    "#  plt.plot([round(i,2) for i in gpu_data[\"mem_occupy_history\"]])"
   ]
  },
  {
   "cell_type": "code",
   "execution_count": null,
   "metadata": {},
   "outputs": [],
   "source": [
    "# nv_stats_recorder.plot_gpu_util(smooth=3)\n",
    "# plt.plot([i for i in gpu_data['mem_occupy_history']])\n",
    "# nv_stats_recorder.plot_gpu_util(smooth=3)\n",
    "# trunc = 2 - 1\n",
    "# t_len = len(gpu_data[\"time_history\"])\n",
    "# time_history = gpu_data[\"time_history\"][trunc:t_len]\n",
    "# print([round(i,3) for i in gpu_data[\"mem_occupy_history\"]])\n",
    "# gpu_data['mem_occupy_history']"
   ]
  },
  {
   "cell_type": "code",
   "execution_count": 19,
   "metadata": {},
   "outputs": [
    {
     "data": {
      "text/plain": [
       "Text(0.5, 1.0, 'Meta Train K=5 Val Post-Inner Loop Accuracies ')"
      ]
     },
     "execution_count": 19,
     "metadata": {},
     "output_type": "execute_result"
    },
    {
     "data": {
      "image/png": "[encoded data removed]",
      "text/plain": [
       "<Figure size 432x288 with 1 Axes>"
      ]
     },
     "metadata": {
      "needs_background": "light"
     },
     "output_type": "display_data"
    }
   ],
   "source": [
    "# plt.plot(val_post_accs)\n",
    "# plt.title(\"Meta Train K=5 Val Post-Inner Loop Accuracies \")"
   ]
  },
  {
   "cell_type": "code",
   "execution_count": 17,
   "metadata": {},
   "outputs": [
    {
     "data": {
      "text/plain": [
       "Text(0.5, 1.0, 'Meta Train K=1 Val Post-Inner Loop Accuracies ')"
      ]
     },
     "execution_count": 17,
     "metadata": {},
     "output_type": "execute_result"
    },
    {
     "data": {
      "image/png": "[encoded data removed]",
      "text/plain": [
       "<Figure size 432x288 with 1 Axes>"
      ]
     },
     "metadata": {
      "needs_background": "light"
     },
     "output_type": "display_data"
    }
   ],
   "source": [
    "# plt.plot(val_post_accs)\n",
    "# plt.title(\"Meta Train K=1 Val Post-Inner Loop Accuracies \")"
   ]
  },
  {
   "cell_type": "code",
   "execution_count": 18,
   "metadata": {},
   "outputs": [],
   "source": [
    "# model.m.save_weights('k_1_maml_unet_final.h5')"
   ]
  },
  {
   "cell_type": "markdown",
   "metadata": {},
   "source": [
    "# Meta Test Function"
   ]
  },
  {
   "cell_type": "code",
   "execution_count": 18,
   "metadata": {},
   "outputs": [
    {
     "name": "stderr",
     "output_type": "stream",
     "text": [
      "100%|██████████| 20/20 [04:26<00:00, 13.33s/it]"
     ]
    },
    {
     "name": "stdout",
     "output_type": "stream",
     "text": [
      "Mean meta-test accuracy/loss, stddev, and confidence intervals\n",
      "(0.4176573, 0.0003198866, 0.00014019648529439078)\n"
     ]
    },
    {
     "name": "stderr",
     "output_type": "stream",
     "text": [
      "\n"
     ]
    }
   ],
   "source": [
    "np.random.seed(1)\n",
    "random.seed(1)\n",
    "meta_batch_size=25\n",
    "NUM_META_TEST_POINTS = 20\n",
    "meta_test_accuracies = []\n",
    "n_way=1\n",
    "k_shot=2\n",
    "for _ in tqdm(range(NUM_META_TEST_POINTS)):\n",
    "#############################\n",
    "#### YOUR CODE GOES HERE ####\n",
    "\n",
    "    # sample a batch of test data and partition into\n",
    "    # group a (input_tr, label_tr) and group b (input_ts, label_ts)\n",
    "    images,labels = d.sample_batch('meta_test',\n",
    "                                  meta_batch_size,\n",
    "                                  shuffle=False)\n",
    "\n",
    "#     images,labels = d.sample_batch('meta_eval',batch_size)\n",
    "    b,n,k,w,h,c = images.shape\n",
    "    # print(b,n,k,w,h,c)\n",
    "    images = images.reshape((b,n*k,w,h,c))\n",
    "    # print(\"images: {}\".format(images.shape))\n",
    "    labels = labels.reshape((b,n*k,w,h,1))\n",
    "\n",
    "    input_tr  = images[:,:k_shot]\n",
    "    label_tr = labels[:,:k_shot]\n",
    "    input_ts = images[:,k_shot:]\n",
    "    label_ts = labels[:,k_shot:]\n",
    "    input_tr = preprocess_input(input_tr)\n",
    "    input_tr = tf.convert_to_tensor(input_tr,tf.float32)\n",
    "    input_ts = preprocess_input(input_ts)\n",
    "    input_ts = tf.convert_to_tensor(input_ts,tf.float32)\n",
    "\n",
    "    label_tr = tf.convert_to_tensor(label_tr,tf.float32)\n",
    "    label_ts = tf.convert_to_tensor(label_ts,tf.float32)\n",
    "    # input_ts, label_ts = data_generator.sample_batch('test',meta_batch_size)\n",
    "    # print(\"input_tr {},label_tr {}\".format(input_tr.shape,label_tr.shape))\n",
    "    # print(\"input_ts {},label_ts {}\".format(input_ts.shape,label_ts.shape))\n",
    "    #############################\n",
    "    inp = (input_tr, input_ts, label_tr, label_ts)\n",
    "    result = outer_eval_step(inp, model, meta_batch_size=meta_batch_size, num_inner_updates=1)\n",
    "\n",
    "    meta_test_accuracies.append(result[-1][-1])\n",
    "\n",
    "meta_test_accuracies = np.array(meta_test_accuracies)\n",
    "means = np.mean(meta_test_accuracies)\n",
    "stds = np.std(meta_test_accuracies)\n",
    "ci95 = 1.96*stds/np.sqrt(NUM_META_TEST_POINTS)\n",
    "\n",
    "print('Mean meta-test accuracy/loss, stddev, and confidence intervals')\n",
    "print((means, stds, ci95))\n"
   ]
  },
  {
   "cell_type": "code",
   "execution_count": 21,
   "metadata": {},
   "outputs": [
    {
     "data": {
      "text/plain": [
       "[<tf.Tensor: id=1499152, shape=(), dtype=float32, numpy=0.014979517>]"
      ]
     },
     "execution_count": 21,
     "metadata": {},
     "output_type": "execute_result"
    }
   ],
   "source": [
    "result[-1]"
   ]
  },
  {
   "cell_type": "code",
   "execution_count": 6,
   "metadata": {},
   "outputs": [
    {
     "name": "stdout",
     "output_type": "stream",
     "text": [
      "True\n"
     ]
    }
   ],
   "source": [
    "import tensorflow as tf\n",
    "\n",
    "print(tf.test.is_gpu_available())\n"
   ]
  },
  {
   "cell_type": "code",
   "execution_count": 7,
   "metadata": {},
   "outputs": [
    {
     "data": {
      "text/plain": [
       "'2.0.0'"
      ]
     },
     "execution_count": 7,
     "metadata": {},
     "output_type": "execute_result"
    }
   ],
   "source": [
    "tf.__version__"
   ]
  },
  {
   "cell_type": "code",
   "execution_count": null,
   "metadata": {},
   "outputs": [],
   "source": []
  }
 ],
 "metadata": {
  "kernelspec": {
   "display_name": "Python 3",
   "language": "python",
   "name": "python3"
  },
  "language_info": {
   "codemirror_mode": {
    "name": "ipython",
    "version": 3
   },
   "file_extension": ".py",
   "mimetype": "text/x-python",
   "name": "python",
   "nbconvert_exporter": "python",
   "pygments_lexer": "ipython3",
   "version": "3.6.12"
  }
 },
 "nbformat": 4,
 "nbformat_minor": 2
}
